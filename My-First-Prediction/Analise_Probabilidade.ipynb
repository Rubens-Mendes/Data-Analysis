{
 "cells": [
  {
   "cell_type": "code",
   "execution_count": 22,
   "metadata": {},
   "outputs": [],
   "source": [
    "import pandas as pd\n",
    "import numpy as np\n",
    "import matplotlib.pyplot as plt\n",
    "from scipy.stats import pearsonr\n",
    "from sklearn import linear_model"
   ]
  },
  {
   "cell_type": "code",
   "execution_count": null,
   "metadata": {},
   "outputs": [],
   "source": []
  },
  {
   "cell_type": "markdown",
   "metadata": {},
   "source": [
    "# Leitura do dataset\n",
    "O <i>dataset</i> utilizado foi retirado do site <b>Kaggle</b>, o mesmo contém os dados de avaliação, número de avaliações, títulos, descrição, número de páginas, tipo e preço de 270 livros relacionados à programação. \n",
    "<b>Fonte:</b> https://www.kaggle.com/thomaskonstantin/top-270-rated-computer-science-programing-books a escolha da base se deu pelo fato de existirem dados que podem possuir várias interpretações e estar mais relacionado com nossa área de atuação. "
   ]
  },
  {
   "cell_type": "code",
   "execution_count": 18,
   "metadata": {},
   "outputs": [
    {
     "name": "stdout",
     "output_type": "stream",
     "text": [
      "Números de linhas e colunas:  (271, 7)\n"
     ]
    },
    {
     "data": {
      "text/html": [
       "<div>\n",
       "<style scoped>\n",
       "    .dataframe tbody tr th:only-of-type {\n",
       "        vertical-align: middle;\n",
       "    }\n",
       "\n",
       "    .dataframe tbody tr th {\n",
       "        vertical-align: top;\n",
       "    }\n",
       "\n",
       "    .dataframe thead th {\n",
       "        text-align: right;\n",
       "    }\n",
       "</style>\n",
       "<table border=\"1\" class=\"dataframe\">\n",
       "  <thead>\n",
       "    <tr style=\"text-align: right;\">\n",
       "      <th></th>\n",
       "      <th>Rating</th>\n",
       "      <th>Reviews</th>\n",
       "      <th>Book_title</th>\n",
       "      <th>Description</th>\n",
       "      <th>Number_Of_Pages</th>\n",
       "      <th>Type</th>\n",
       "      <th>Price</th>\n",
       "    </tr>\n",
       "  </thead>\n",
       "  <tbody>\n",
       "    <tr>\n",
       "      <th>0</th>\n",
       "      <td>4.17</td>\n",
       "      <td>3,829</td>\n",
       "      <td>The Elements of Style</td>\n",
       "      <td>This style manual offers practical advice on i...</td>\n",
       "      <td>105</td>\n",
       "      <td>Hardcover</td>\n",
       "      <td>9.323529</td>\n",
       "    </tr>\n",
       "    <tr>\n",
       "      <th>1</th>\n",
       "      <td>4.01</td>\n",
       "      <td>1,406</td>\n",
       "      <td>The Information: A History, a Theory, a Flood</td>\n",
       "      <td>James Gleick, the author of the best sellers C...</td>\n",
       "      <td>527</td>\n",
       "      <td>Hardcover</td>\n",
       "      <td>11.000000</td>\n",
       "    </tr>\n",
       "    <tr>\n",
       "      <th>2</th>\n",
       "      <td>3.33</td>\n",
       "      <td>0</td>\n",
       "      <td>Responsive Web Design Overview For Beginners</td>\n",
       "      <td>In Responsive Web Design Overview For Beginner...</td>\n",
       "      <td>50</td>\n",
       "      <td>Kindle Edition</td>\n",
       "      <td>11.267647</td>\n",
       "    </tr>\n",
       "    <tr>\n",
       "      <th>3</th>\n",
       "      <td>3.97</td>\n",
       "      <td>1,658</td>\n",
       "      <td>Ghost in the Wires: My Adventures as the World...</td>\n",
       "      <td>If they were a hall of fame or shame for compu...</td>\n",
       "      <td>393</td>\n",
       "      <td>Hardcover</td>\n",
       "      <td>12.873529</td>\n",
       "    </tr>\n",
       "    <tr>\n",
       "      <th>4</th>\n",
       "      <td>4.06</td>\n",
       "      <td>1,325</td>\n",
       "      <td>How Google Works</td>\n",
       "      <td>Both Eric Schmidt and Jonathan Rosenberg came ...</td>\n",
       "      <td>305</td>\n",
       "      <td>Kindle Edition</td>\n",
       "      <td>13.164706</td>\n",
       "    </tr>\n",
       "    <tr>\n",
       "      <th>5</th>\n",
       "      <td>3.84</td>\n",
       "      <td>117</td>\n",
       "      <td>The Meme Machine</td>\n",
       "      <td>What is a meme? First coined by Richard Dawkin...</td>\n",
       "      <td>288</td>\n",
       "      <td>Paperback</td>\n",
       "      <td>14.188235</td>\n",
       "    </tr>\n",
       "    <tr>\n",
       "      <th>6</th>\n",
       "      <td>4.09</td>\n",
       "      <td>5,938</td>\n",
       "      <td>Start with Why: How Great Leaders Inspire Ever...</td>\n",
       "      <td>Why do you do what you do?\\n\\nWhy are some peo...</td>\n",
       "      <td>256</td>\n",
       "      <td>Hardcover</td>\n",
       "      <td>14.232353</td>\n",
       "    </tr>\n",
       "    <tr>\n",
       "      <th>7</th>\n",
       "      <td>4.15</td>\n",
       "      <td>1,817</td>\n",
       "      <td>Algorithms to Live By: The Computer Science of...</td>\n",
       "      <td>A fascinating exploration of how insights from...</td>\n",
       "      <td>368</td>\n",
       "      <td>Hardcover</td>\n",
       "      <td>14.364706</td>\n",
       "    </tr>\n",
       "    <tr>\n",
       "      <th>8</th>\n",
       "      <td>3.87</td>\n",
       "      <td>2,093</td>\n",
       "      <td>Weapons of Math Destruction: How Big Data Incr...</td>\n",
       "      <td>A former Wall Street quant sounds an alarm on ...</td>\n",
       "      <td>259</td>\n",
       "      <td>Hardcover</td>\n",
       "      <td>14.502941</td>\n",
       "    </tr>\n",
       "    <tr>\n",
       "      <th>9</th>\n",
       "      <td>4.62</td>\n",
       "      <td>0</td>\n",
       "      <td>ZX Spectrum Games Code Club: Twenty fun games ...</td>\n",
       "      <td>This book is ideal for ZX Spectrum fans and be...</td>\n",
       "      <td>128</td>\n",
       "      <td>Paperback</td>\n",
       "      <td>14.641176</td>\n",
       "    </tr>\n",
       "    <tr>\n",
       "      <th>10</th>\n",
       "      <td>4.03</td>\n",
       "      <td>160</td>\n",
       "      <td>Sync: The Emerging Science of Spontaneous Order</td>\n",
       "      <td>At the heart of the universe is a steady, insi...</td>\n",
       "      <td>352</td>\n",
       "      <td>Hardcover</td>\n",
       "      <td>15.229412</td>\n",
       "    </tr>\n",
       "    <tr>\n",
       "      <th>11</th>\n",
       "      <td>3.78</td>\n",
       "      <td>481</td>\n",
       "      <td>The Master Algorithm: How the Quest for the Ul...</td>\n",
       "      <td>A thought-provoking and wide-ranging explorati...</td>\n",
       "      <td>352</td>\n",
       "      <td>Hardcover</td>\n",
       "      <td>15.229412</td>\n",
       "    </tr>\n",
       "    <tr>\n",
       "      <th>12</th>\n",
       "      <td>3.73</td>\n",
       "      <td>33</td>\n",
       "      <td>Ship It!</td>\n",
       "      <td>Ship It! is a collection of tips that show the...</td>\n",
       "      <td>200</td>\n",
       "      <td>Paperback</td>\n",
       "      <td>15.326471</td>\n",
       "    </tr>\n",
       "    <tr>\n",
       "      <th>13</th>\n",
       "      <td>3.87</td>\n",
       "      <td>1,255</td>\n",
       "      <td>Superintelligence: Paths, Dangers, Strategies</td>\n",
       "      <td>Superintelligence asks the questions: what hap...</td>\n",
       "      <td>328</td>\n",
       "      <td>Hardcover</td>\n",
       "      <td>15.682353</td>\n",
       "    </tr>\n",
       "    <tr>\n",
       "      <th>14</th>\n",
       "      <td>3.87</td>\n",
       "      <td>593</td>\n",
       "      <td>The Art of the Start: The Time-Tested, Battle-...</td>\n",
       "      <td>A new product, a new service, a new company, a...</td>\n",
       "      <td>240</td>\n",
       "      <td>Hardcover</td>\n",
       "      <td>15.885294</td>\n",
       "    </tr>\n",
       "    <tr>\n",
       "      <th>15</th>\n",
       "      <td>3.95</td>\n",
       "      <td>417</td>\n",
       "      <td>Kingpin: How One Hacker Took Over the Billion-...</td>\n",
       "      <td>The true story of Max Butler, the master hacke...</td>\n",
       "      <td>288</td>\n",
       "      <td>Hardcover</td>\n",
       "      <td>16.073529</td>\n",
       "    </tr>\n",
       "    <tr>\n",
       "      <th>16</th>\n",
       "      <td>3.85</td>\n",
       "      <td>80</td>\n",
       "      <td>The Quark and the Jaguar: Adventures in the Si...</td>\n",
       "      <td>From one of the architects of the new science ...</td>\n",
       "      <td>392</td>\n",
       "      <td>Paperback</td>\n",
       "      <td>16.367647</td>\n",
       "    </tr>\n",
       "    <tr>\n",
       "      <th>17</th>\n",
       "      <td>3.94</td>\n",
       "      <td>279</td>\n",
       "      <td>Linked: How Everything Is Connected to Everyth...</td>\n",
       "      <td>A cocktail party? A terrorist cell? Ancient ba...</td>\n",
       "      <td>304</td>\n",
       "      <td>Paperback</td>\n",
       "      <td>16.852941</td>\n",
       "    </tr>\n",
       "    <tr>\n",
       "      <th>18</th>\n",
       "      <td>3.75</td>\n",
       "      <td>370</td>\n",
       "      <td>Our Final Invention: Artificial Intelligence a...</td>\n",
       "      <td>In as little as a decade, artificial intellige...</td>\n",
       "      <td>336</td>\n",
       "      <td>Hardcover</td>\n",
       "      <td>16.891176</td>\n",
       "    </tr>\n",
       "    <tr>\n",
       "      <th>19</th>\n",
       "      <td>4.10</td>\n",
       "      <td>2,092</td>\n",
       "      <td>The Innovators: How a Group of Hackers, Genius...</td>\n",
       "      <td>The computer and the internet are among the mo...</td>\n",
       "      <td>542</td>\n",
       "      <td>Hardcover</td>\n",
       "      <td>17.229412</td>\n",
       "    </tr>\n",
       "    <tr>\n",
       "      <th>20</th>\n",
       "      <td>4.22</td>\n",
       "      <td>27</td>\n",
       "      <td>Debugging: The 9 Indispensable Rules for Findi...</td>\n",
       "      <td>When the pressure is on to root out an elusive...</td>\n",
       "      <td>192</td>\n",
       "      <td>Paperback</td>\n",
       "      <td>17.491176</td>\n",
       "    </tr>\n",
       "    <tr>\n",
       "      <th>21</th>\n",
       "      <td>3.71</td>\n",
       "      <td>676</td>\n",
       "      <td>Big Data: A Revolution That Will Transform How...</td>\n",
       "      <td>A revelatory exploration of the hottest trend ...</td>\n",
       "      <td>242</td>\n",
       "      <td>Hardcover</td>\n",
       "      <td>17.620588</td>\n",
       "    </tr>\n",
       "    <tr>\n",
       "      <th>22</th>\n",
       "      <td>4.21</td>\n",
       "      <td>16</td>\n",
       "      <td>Help Your Kids with Computer Coding</td>\n",
       "      <td>Take your kids from browsing to building the w...</td>\n",
       "      <td>224</td>\n",
       "      <td>Paperback</td>\n",
       "      <td>18.938235</td>\n",
       "    </tr>\n",
       "    <tr>\n",
       "      <th>23</th>\n",
       "      <td>4.28</td>\n",
       "      <td>1,268</td>\n",
       "      <td>The Code Book: The Science of Secrecy from Anc...</td>\n",
       "      <td>In his first book since the bestselling Fermat...</td>\n",
       "      <td>412</td>\n",
       "      <td>Paperback</td>\n",
       "      <td>19.132353</td>\n",
       "    </tr>\n",
       "    <tr>\n",
       "      <th>24</th>\n",
       "      <td>3.20</td>\n",
       "      <td>0</td>\n",
       "      <td>Game Programming Golden Rules</td>\n",
       "      <td>'Game Programming Golden Rules' provides indis...</td>\n",
       "      <td>318</td>\n",
       "      <td>Paperback</td>\n",
       "      <td>19.152941</td>\n",
       "    </tr>\n",
       "  </tbody>\n",
       "</table>\n",
       "</div>"
      ],
      "text/plain": [
       "    Rating Reviews                                         Book_title  \\\n",
       "0     4.17   3,829                              The Elements of Style   \n",
       "1     4.01   1,406      The Information: A History, a Theory, a Flood   \n",
       "2     3.33       0       Responsive Web Design Overview For Beginners   \n",
       "3     3.97   1,658  Ghost in the Wires: My Adventures as the World...   \n",
       "4     4.06   1,325                                   How Google Works   \n",
       "5     3.84     117                                   The Meme Machine   \n",
       "6     4.09   5,938  Start with Why: How Great Leaders Inspire Ever...   \n",
       "7     4.15   1,817  Algorithms to Live By: The Computer Science of...   \n",
       "8     3.87   2,093  Weapons of Math Destruction: How Big Data Incr...   \n",
       "9     4.62       0  ZX Spectrum Games Code Club: Twenty fun games ...   \n",
       "10    4.03     160    Sync: The Emerging Science of Spontaneous Order   \n",
       "11    3.78     481  The Master Algorithm: How the Quest for the Ul...   \n",
       "12    3.73      33                                           Ship It!   \n",
       "13    3.87   1,255      Superintelligence: Paths, Dangers, Strategies   \n",
       "14    3.87     593  The Art of the Start: The Time-Tested, Battle-...   \n",
       "15    3.95     417  Kingpin: How One Hacker Took Over the Billion-...   \n",
       "16    3.85      80  The Quark and the Jaguar: Adventures in the Si...   \n",
       "17    3.94     279  Linked: How Everything Is Connected to Everyth...   \n",
       "18    3.75     370  Our Final Invention: Artificial Intelligence a...   \n",
       "19    4.10   2,092  The Innovators: How a Group of Hackers, Genius...   \n",
       "20    4.22      27  Debugging: The 9 Indispensable Rules for Findi...   \n",
       "21    3.71     676  Big Data: A Revolution That Will Transform How...   \n",
       "22    4.21      16                Help Your Kids with Computer Coding   \n",
       "23    4.28   1,268  The Code Book: The Science of Secrecy from Anc...   \n",
       "24    3.20       0                      Game Programming Golden Rules   \n",
       "\n",
       "                                          Description  Number_Of_Pages  \\\n",
       "0   This style manual offers practical advice on i...              105   \n",
       "1   James Gleick, the author of the best sellers C...              527   \n",
       "2   In Responsive Web Design Overview For Beginner...               50   \n",
       "3   If they were a hall of fame or shame for compu...              393   \n",
       "4   Both Eric Schmidt and Jonathan Rosenberg came ...              305   \n",
       "5   What is a meme? First coined by Richard Dawkin...              288   \n",
       "6   Why do you do what you do?\\n\\nWhy are some peo...              256   \n",
       "7   A fascinating exploration of how insights from...              368   \n",
       "8   A former Wall Street quant sounds an alarm on ...              259   \n",
       "9   This book is ideal for ZX Spectrum fans and be...              128   \n",
       "10  At the heart of the universe is a steady, insi...              352   \n",
       "11  A thought-provoking and wide-ranging explorati...              352   \n",
       "12  Ship It! is a collection of tips that show the...              200   \n",
       "13  Superintelligence asks the questions: what hap...              328   \n",
       "14  A new product, a new service, a new company, a...              240   \n",
       "15  The true story of Max Butler, the master hacke...              288   \n",
       "16  From one of the architects of the new science ...              392   \n",
       "17  A cocktail party? A terrorist cell? Ancient ba...              304   \n",
       "18  In as little as a decade, artificial intellige...              336   \n",
       "19  The computer and the internet are among the mo...              542   \n",
       "20  When the pressure is on to root out an elusive...              192   \n",
       "21  A revelatory exploration of the hottest trend ...              242   \n",
       "22  Take your kids from browsing to building the w...              224   \n",
       "23  In his first book since the bestselling Fermat...              412   \n",
       "24  'Game Programming Golden Rules' provides indis...              318   \n",
       "\n",
       "              Type      Price  \n",
       "0        Hardcover   9.323529  \n",
       "1        Hardcover  11.000000  \n",
       "2   Kindle Edition  11.267647  \n",
       "3        Hardcover  12.873529  \n",
       "4   Kindle Edition  13.164706  \n",
       "5        Paperback  14.188235  \n",
       "6        Hardcover  14.232353  \n",
       "7        Hardcover  14.364706  \n",
       "8        Hardcover  14.502941  \n",
       "9        Paperback  14.641176  \n",
       "10       Hardcover  15.229412  \n",
       "11       Hardcover  15.229412  \n",
       "12       Paperback  15.326471  \n",
       "13       Hardcover  15.682353  \n",
       "14       Hardcover  15.885294  \n",
       "15       Hardcover  16.073529  \n",
       "16       Paperback  16.367647  \n",
       "17       Paperback  16.852941  \n",
       "18       Hardcover  16.891176  \n",
       "19       Hardcover  17.229412  \n",
       "20       Paperback  17.491176  \n",
       "21       Hardcover  17.620588  \n",
       "22       Paperback  18.938235  \n",
       "23       Paperback  19.132353  \n",
       "24       Paperback  19.152941  "
      ]
     },
     "execution_count": 18,
     "metadata": {},
     "output_type": "execute_result"
    }
   ],
   "source": [
    "data = pd.read_csv('prog_book.csv', header = (0)) #Leitura do dataset com extensão.csv\n",
    "print(\"Números de linhas e colunas: \", data.shape)\n",
    "data.head(25)"
   ]
  },
  {
   "cell_type": "markdown",
   "metadata": {},
   "source": [
    "# Pré-tratamento dos dados\n",
    "Neste caso, executamos o processo de limpeza do <i>dataset</i> para remover dados duplicados e <b>NaN</b> a fim de deixar os dados mais trabalháveis, evitando que haja algum tipo de ruído na hora de fazer a análise."
   ]
  },
  {
   "cell_type": "code",
   "execution_count": 4,
   "metadata": {},
   "outputs": [],
   "source": [
    "data = data.replace('?', np.nan)\n",
    "#data.head(25)"
   ]
  },
  {
   "cell_type": "code",
   "execution_count": 5,
   "metadata": {},
   "outputs": [
    {
     "name": "stdout",
     "output_type": "stream",
     "text": [
      "Numero de linhas e colunas:  (271, 7)\n"
     ]
    }
   ],
   "source": [
    "data = data.dropna()\n",
    "print(\"Numero de linhas e colunas: \", data.shape)\n",
    "#data.head(25)"
   ]
  },
  {
   "cell_type": "code",
   "execution_count": 6,
   "metadata": {},
   "outputs": [
    {
     "name": "stdout",
     "output_type": "stream",
     "text": [
      "Numero de linhas e colunas:  (271, 7)\n"
     ]
    }
   ],
   "source": [
    "data = data.drop_duplicates()\n",
    "print(\"Numero de linhas e colunas: \", data.shape)\n",
    "#data.head(25)"
   ]
  },
  {
   "cell_type": "markdown",
   "metadata": {},
   "source": [
    "# Escolha de x e y\n",
    "Levando em consideração todas as colunas, achamos interessante recolher os dados de <i>rating</i> e <i>price</i> e basear a nossa análise nessas duas colunas."
   ]
  },
  {
   "cell_type": "code",
   "execution_count": 7,
   "metadata": {},
   "outputs": [],
   "source": [
    "book_rating = data['Rating'] \n",
    "book_price = data['Price']"
   ]
  },
  {
   "cell_type": "markdown",
   "metadata": {},
   "source": [
    "# Cálculo de média, variância, mediana, desvio padrão e histograma de <i>Rating</i> e <i>Price</i>.\n",
    "Para os cálculos propostos, utilizamos a biblioteca numpy com as funções mean, var, median e a std. O histogramas foram criados utizando a função histogram do numpy e os <i>plots</i> foram feitos utilizando a biblioteca matplotlib.\n",
    "O retorno do histograma, como descrito em aula, é um gráfico de frequência pela variável escolhida(<i>Rating</i> ou <i>Price</i>)"
   ]
  },
  {
   "cell_type": "code",
   "execution_count": 8,
   "metadata": {},
   "outputs": [
    {
     "name": "stdout",
     "output_type": "stream",
     "text": [
      "Variância dos Ratings:  0.08422284827276318\n",
      "Média de Ratings:  4.067416974169742\n",
      "Mediana de Ratings:  4.1\n",
      "Desvio Padrão das Ratings:  0.29074866250397\n"
     ]
    },
    {
     "data": {
      "image/png": "[encoded data removed]",
      "text/plain": [
       "<Figure size 432x288 with 1 Axes>"
      ]
     },
     "metadata": {
      "needs_background": "light"
     },
     "output_type": "display_data"
    }
   ],
   "source": [
    "print('Variância dos Ratings: ', np.var(book_rating)) #Variância\n",
    "print('Média de Ratings: ', np.mean(book_rating)) #Média\n",
    "print('Mediana de Ratings: ', np.median(book_rating)) # Mediana\n",
    "print('Desvio Padrão das Ratings: ', np.std(book_rating, ddof = 1)) #Desvio Padrão\n",
    "\n",
    "histogram = np.histogram(book_rating, bins = 'auto') # histograma\n",
    "plt.hist(book_rating)\n",
    "plt.title(\"Número de mortes - Frequência x Rating\")\n",
    "plt.ylabel(\"Frequência\")\n",
    "plt.xlabel(\"Rating\")\n",
    "plt.show() #chama o plot do gráfico"
   ]
  },
  {
   "cell_type": "code",
   "execution_count": 9,
   "metadata": {},
   "outputs": [
    {
     "name": "stdout",
     "output_type": "stream",
     "text": [
      "Variância dos Preços:  1270.6041947413757\n",
      "Média dos Preços:  54.54186021247969\n",
      "Mediana dos Preços:  46.31764706\n",
      "Desvio Padrão dos Preços:  35.71148465414706\n"
     ]
    },
    {
     "data": {
      "image/png": "[encoded data removed]",
      "text/plain": [
       "<Figure size 432x288 with 1 Axes>"
      ]
     },
     "metadata": {
      "needs_background": "light"
     },
     "output_type": "display_data"
    }
   ],
   "source": [
    "print('Variância dos Preços: ', np.var(book_price))\n",
    "print('Média dos Preços: ', np.mean(book_price))\n",
    "print('Mediana dos Preços: ', np.median(book_price))\n",
    "print('Desvio Padrão dos Preços: ', np.std(book_price, ddof = 1))\n",
    "\n",
    "histogram = np.histogram(book_price, bins = 'auto')\n",
    "plt.hist(book_price)\n",
    "plt.title(\"Número de casos - Frequência x Preços\")\n",
    "plt.ylabel(\"Frequência\")\n",
    "plt.xlabel(\"Preços\")\n",
    "plt.show()"
   ]
  },
  {
   "cell_type": "markdown",
   "metadata": {},
   "source": [
    "# Cálculo da correlação entre a variável <i>Rating</i> e <i>Price</i> \n",
    "Os cálculos foram feitos utilizando a correlação de pearson, por meio da função pearsonr da biblioteca scipy.stats.\n",
    "O resultado mostra uma correlação positiva, indicando que as duas variáveis crescem na mesma direção, entretanto esse coeficiente é muito baixo, entre -0.1 e 0.1 portanto por convenção vamos levar em consideração que essas váriaveis não possuem uma relação linear. O que pode influenciar positivamente no desempenho do modelo de regressão linear, visto que variáveis com uma relação muito forte podem interferir negativamente em alguns modelos."
   ]
  },
  {
   "cell_type": "code",
   "execution_count": 29,
   "metadata": {},
   "outputs": [
    {
     "name": "stdout",
     "output_type": "stream",
     "text": [
      "Correlação de Pearson: 0.044\n"
     ]
    }
   ],
   "source": [
    "tam = len(book_rating)  #tamanho das colunas\n",
    "\n",
    "corr, p_value = pearsonr(book_rating, book_price) # calcula a correlação\n",
    "corr = int(corr*tam)/tam\n",
    "\n",
    "print(\"Correlação de Pearson: %.3f\" %corr)"
   ]
  },
  {
   "cell_type": "markdown",
   "metadata": {},
   "source": [
    "# Passagem de dados para o dataframe\n",
    "Aqui utilizamos o dataframe da biblioteca pandas para armazenar de maneira \"unida\" x e y a fim de passar os valores para a regressão linear."
   ]
  },
  {
   "cell_type": "code",
   "execution_count": 31,
   "metadata": {},
   "outputs": [],
   "source": [
    "dataframe = pd.DataFrame()\n",
    "dataframe['x'] = book_rating  # tamanho da celula\n",
    "dataframe['y'] = book_price # forma da celula\n",
    "x_values = dataframe[['x']]\n",
    "y_values = dataframe[['y']]"
   ]
  },
  {
   "cell_type": "markdown",
   "metadata": {},
   "source": [
    "# Criação do modelo de regressão linear\n",
    "Aqui utilizamos a função linear_model da biblioteca sklearn para gerar nosso modelo. Pode se notar que a linha de tendência tem uma inclinação muito baixa, o que comprova a correlação neutra das variáveis <i>Price</i> e <i>Rating</i>. A equação da regressão linear nos permite achar a o <i>Price</i> aproximado de um livro com determinado <i>Rating</i> apenas trocando o x da equação pelo próprio <i>Rating</i>"
   ]
  },
  {
   "cell_type": "code",
   "execution_count": 36,
   "metadata": {
    "scrolled": true
   },
   "outputs": [
    {
     "name": "stdout",
     "output_type": "stream",
     "text": [
      "Utilizando biblioteca scikit-learn no python\n",
      "y = ax + b\n",
      "a = 5.74 = Coeficiente angular - inclinação da linha de tendência\n",
      "b = 31.21 = O ponto de interceptação do eixo y.\n",
      "\n",
      "Equação da regressão linear:\n",
      "y = 5.735650876049977x + 31.21257648132248\n"
     ]
    }
   ],
   "source": [
    "#Modelo de regressão linear\n",
    "model = linear_model.LinearRegression()\n",
    "model.fit(x_values, y_values)\n",
    "\n",
    "#imprimindo os valores\n",
    "print('Utilizando biblioteca scikit-learn no python')\n",
    "print('y = ax + b')\n",
    "a = model.coef_[0][0]\n",
    "b = model.intercept_[0]\n",
    "print('a = %.2f = Coeficiente angular - inclinação da linha de tendência' % a)\n",
    "print('b = %.2f = O ponto de interceptação do eixo y.' % b)\n",
    "print()\n",
    "print('Equação da regressão linear:')\n",
    "print('y = {}x + {}'.format(a, b))"
   ]
  },
  {
   "cell_type": "code",
   "execution_count": 37,
   "metadata": {},
   "outputs": [
    {
     "data": {
      "image/png": "[encoded data removed]",
      "text/plain": [
       "<Figure size 432x288 with 1 Axes>"
      ]
     },
     "metadata": {
      "needs_background": "light"
     },
     "output_type": "display_data"
    }
   ],
   "source": [
    "#Gráfico da regressão linear\n",
    "y_pred = model.predict(x_values)\n",
    "plt.scatter(x_values, y_values)\n",
    "plt.plot(x_values, y_pred, color='red')\n",
    "plt.show()"
   ]
  }
 ],
 "metadata": {
  "kernelspec": {
   "display_name": "Python 3",
   "language": "python",
   "name": "python3"
  },
  "language_info": {
   "codemirror_mode": {
    "name": "ipython",
    "version": 3
   },
   "file_extension": ".py",
   "mimetype": "text/x-python",
   "name": "python",
   "nbconvert_exporter": "python",
   "pygments_lexer": "ipython3",
   "version": "3.8.3"
  }
 },
 "nbformat": 4,
 "nbformat_minor": 4
}
