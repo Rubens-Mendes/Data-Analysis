{
 "cells": [
  {
   "cell_type": "code",
   "execution_count": 20,
   "metadata": {},
   "outputs": [],
   "source": [
    "import pandas as pd\n",
    "import numpy as np\n",
    "import matplotlib.pyplot as plt\n",
    "from scipy.stats import pearsonr\n",
    "from sklearn import linear_model\n",
    "import sklearn.metrics as sm"
   ]
  },
  {
   "cell_type": "markdown",
   "metadata": {},
   "source": [
    "# Leitura do dataset\n",
    "O <i>dataset</i> utilizado foi retirado da pasta de planilhas disponível no moodle, foi escolhida a base iris para a análise."
   ]
  },
  {
   "cell_type": "code",
   "execution_count": 21,
   "metadata": {},
   "outputs": [
    {
     "name": "stdout",
     "output_type": "stream",
     "text": [
      "Números de linhas e colunas:  (150, 5)\n"
     ]
    }
   ],
   "source": [
    "data = pd.read_csv('iris.csv', header = (0)) #Leitura do dataset com extensão.csv\n",
    "print(\"Números de linhas e colunas: \", data.shape)\n",
    "#data.head(25)"
   ]
  },
  {
   "cell_type": "markdown",
   "metadata": {},
   "source": [
    "# Pré-tratamento dos dados\n",
    "Neste caso, executamos o processo de limpeza do <i>dataset</i> para remover dados duplicados e <b>NaN</b> a fim de deixar os dados mais trabalháveis, evitando que haja algum tipo de ruído na hora de fazer a análise."
   ]
  },
  {
   "cell_type": "code",
   "execution_count": 26,
   "metadata": {},
   "outputs": [
    {
     "name": "stdout",
     "output_type": "stream",
     "text": [
      "Numero de linhas e colunas:  (147, 5)\n"
     ]
    },
    {
     "data": {
      "text/html": [
       "<div>\n",
       "<style scoped>\n",
       "    .dataframe tbody tr th:only-of-type {\n",
       "        vertical-align: middle;\n",
       "    }\n",
       "\n",
       "    .dataframe tbody tr th {\n",
       "        vertical-align: top;\n",
       "    }\n",
       "\n",
       "    .dataframe thead th {\n",
       "        text-align: right;\n",
       "    }\n",
       "</style>\n",
       "<table border=\"1\" class=\"dataframe\">\n",
       "  <thead>\n",
       "    <tr style=\"text-align: right;\">\n",
       "      <th></th>\n",
       "      <th>sepal_length</th>\n",
       "      <th>sepal_width</th>\n",
       "      <th>petal_length</th>\n",
       "      <th>petal_width</th>\n",
       "      <th>species</th>\n",
       "    </tr>\n",
       "  </thead>\n",
       "  <tbody>\n",
       "    <tr>\n",
       "      <th>0</th>\n",
       "      <td>5.1</td>\n",
       "      <td>3.5</td>\n",
       "      <td>1.4</td>\n",
       "      <td>0.2</td>\n",
       "      <td>setosa</td>\n",
       "    </tr>\n",
       "    <tr>\n",
       "      <th>1</th>\n",
       "      <td>4.9</td>\n",
       "      <td>3.0</td>\n",
       "      <td>1.4</td>\n",
       "      <td>0.2</td>\n",
       "      <td>setosa</td>\n",
       "    </tr>\n",
       "    <tr>\n",
       "      <th>2</th>\n",
       "      <td>4.7</td>\n",
       "      <td>3.2</td>\n",
       "      <td>1.3</td>\n",
       "      <td>0.2</td>\n",
       "      <td>setosa</td>\n",
       "    </tr>\n",
       "    <tr>\n",
       "      <th>3</th>\n",
       "      <td>4.6</td>\n",
       "      <td>3.1</td>\n",
       "      <td>1.5</td>\n",
       "      <td>0.2</td>\n",
       "      <td>setosa</td>\n",
       "    </tr>\n",
       "    <tr>\n",
       "      <th>4</th>\n",
       "      <td>5.0</td>\n",
       "      <td>3.6</td>\n",
       "      <td>1.4</td>\n",
       "      <td>0.2</td>\n",
       "      <td>setosa</td>\n",
       "    </tr>\n",
       "    <tr>\n",
       "      <th>5</th>\n",
       "      <td>5.4</td>\n",
       "      <td>3.9</td>\n",
       "      <td>1.7</td>\n",
       "      <td>0.4</td>\n",
       "      <td>setosa</td>\n",
       "    </tr>\n",
       "    <tr>\n",
       "      <th>6</th>\n",
       "      <td>4.6</td>\n",
       "      <td>3.4</td>\n",
       "      <td>1.4</td>\n",
       "      <td>0.3</td>\n",
       "      <td>setosa</td>\n",
       "    </tr>\n",
       "    <tr>\n",
       "      <th>7</th>\n",
       "      <td>5.0</td>\n",
       "      <td>3.4</td>\n",
       "      <td>1.5</td>\n",
       "      <td>0.2</td>\n",
       "      <td>setosa</td>\n",
       "    </tr>\n",
       "    <tr>\n",
       "      <th>8</th>\n",
       "      <td>4.4</td>\n",
       "      <td>2.9</td>\n",
       "      <td>1.4</td>\n",
       "      <td>0.2</td>\n",
       "      <td>setosa</td>\n",
       "    </tr>\n",
       "    <tr>\n",
       "      <th>9</th>\n",
       "      <td>4.9</td>\n",
       "      <td>3.1</td>\n",
       "      <td>1.5</td>\n",
       "      <td>0.1</td>\n",
       "      <td>setosa</td>\n",
       "    </tr>\n",
       "    <tr>\n",
       "      <th>10</th>\n",
       "      <td>5.4</td>\n",
       "      <td>3.7</td>\n",
       "      <td>1.5</td>\n",
       "      <td>0.2</td>\n",
       "      <td>setosa</td>\n",
       "    </tr>\n",
       "    <tr>\n",
       "      <th>11</th>\n",
       "      <td>4.8</td>\n",
       "      <td>3.4</td>\n",
       "      <td>1.6</td>\n",
       "      <td>0.2</td>\n",
       "      <td>setosa</td>\n",
       "    </tr>\n",
       "    <tr>\n",
       "      <th>12</th>\n",
       "      <td>4.8</td>\n",
       "      <td>3.0</td>\n",
       "      <td>1.4</td>\n",
       "      <td>0.1</td>\n",
       "      <td>setosa</td>\n",
       "    </tr>\n",
       "    <tr>\n",
       "      <th>13</th>\n",
       "      <td>4.3</td>\n",
       "      <td>3.0</td>\n",
       "      <td>1.1</td>\n",
       "      <td>0.1</td>\n",
       "      <td>setosa</td>\n",
       "    </tr>\n",
       "    <tr>\n",
       "      <th>14</th>\n",
       "      <td>5.8</td>\n",
       "      <td>4.0</td>\n",
       "      <td>1.2</td>\n",
       "      <td>0.2</td>\n",
       "      <td>setosa</td>\n",
       "    </tr>\n",
       "    <tr>\n",
       "      <th>15</th>\n",
       "      <td>5.7</td>\n",
       "      <td>4.4</td>\n",
       "      <td>1.5</td>\n",
       "      <td>0.4</td>\n",
       "      <td>setosa</td>\n",
       "    </tr>\n",
       "    <tr>\n",
       "      <th>16</th>\n",
       "      <td>5.4</td>\n",
       "      <td>3.9</td>\n",
       "      <td>1.3</td>\n",
       "      <td>0.4</td>\n",
       "      <td>setosa</td>\n",
       "    </tr>\n",
       "    <tr>\n",
       "      <th>17</th>\n",
       "      <td>5.1</td>\n",
       "      <td>3.5</td>\n",
       "      <td>1.4</td>\n",
       "      <td>0.3</td>\n",
       "      <td>setosa</td>\n",
       "    </tr>\n",
       "    <tr>\n",
       "      <th>18</th>\n",
       "      <td>5.7</td>\n",
       "      <td>3.8</td>\n",
       "      <td>1.7</td>\n",
       "      <td>0.3</td>\n",
       "      <td>setosa</td>\n",
       "    </tr>\n",
       "    <tr>\n",
       "      <th>19</th>\n",
       "      <td>5.1</td>\n",
       "      <td>3.8</td>\n",
       "      <td>1.5</td>\n",
       "      <td>0.3</td>\n",
       "      <td>setosa</td>\n",
       "    </tr>\n",
       "    <tr>\n",
       "      <th>20</th>\n",
       "      <td>5.4</td>\n",
       "      <td>3.4</td>\n",
       "      <td>1.7</td>\n",
       "      <td>0.2</td>\n",
       "      <td>setosa</td>\n",
       "    </tr>\n",
       "    <tr>\n",
       "      <th>21</th>\n",
       "      <td>5.1</td>\n",
       "      <td>3.7</td>\n",
       "      <td>1.5</td>\n",
       "      <td>0.4</td>\n",
       "      <td>setosa</td>\n",
       "    </tr>\n",
       "    <tr>\n",
       "      <th>22</th>\n",
       "      <td>4.6</td>\n",
       "      <td>3.6</td>\n",
       "      <td>1.0</td>\n",
       "      <td>0.2</td>\n",
       "      <td>setosa</td>\n",
       "    </tr>\n",
       "    <tr>\n",
       "      <th>23</th>\n",
       "      <td>5.1</td>\n",
       "      <td>3.3</td>\n",
       "      <td>1.7</td>\n",
       "      <td>0.5</td>\n",
       "      <td>setosa</td>\n",
       "    </tr>\n",
       "    <tr>\n",
       "      <th>24</th>\n",
       "      <td>4.8</td>\n",
       "      <td>3.4</td>\n",
       "      <td>1.9</td>\n",
       "      <td>0.2</td>\n",
       "      <td>setosa</td>\n",
       "    </tr>\n",
       "  </tbody>\n",
       "</table>\n",
       "</div>"
      ],
      "text/plain": [
       "    sepal_length  sepal_width  petal_length  petal_width species\n",
       "0            5.1          3.5           1.4          0.2  setosa\n",
       "1            4.9          3.0           1.4          0.2  setosa\n",
       "2            4.7          3.2           1.3          0.2  setosa\n",
       "3            4.6          3.1           1.5          0.2  setosa\n",
       "4            5.0          3.6           1.4          0.2  setosa\n",
       "5            5.4          3.9           1.7          0.4  setosa\n",
       "6            4.6          3.4           1.4          0.3  setosa\n",
       "7            5.0          3.4           1.5          0.2  setosa\n",
       "8            4.4          2.9           1.4          0.2  setosa\n",
       "9            4.9          3.1           1.5          0.1  setosa\n",
       "10           5.4          3.7           1.5          0.2  setosa\n",
       "11           4.8          3.4           1.6          0.2  setosa\n",
       "12           4.8          3.0           1.4          0.1  setosa\n",
       "13           4.3          3.0           1.1          0.1  setosa\n",
       "14           5.8          4.0           1.2          0.2  setosa\n",
       "15           5.7          4.4           1.5          0.4  setosa\n",
       "16           5.4          3.9           1.3          0.4  setosa\n",
       "17           5.1          3.5           1.4          0.3  setosa\n",
       "18           5.7          3.8           1.7          0.3  setosa\n",
       "19           5.1          3.8           1.5          0.3  setosa\n",
       "20           5.4          3.4           1.7          0.2  setosa\n",
       "21           5.1          3.7           1.5          0.4  setosa\n",
       "22           4.6          3.6           1.0          0.2  setosa\n",
       "23           5.1          3.3           1.7          0.5  setosa\n",
       "24           4.8          3.4           1.9          0.2  setosa"
      ]
     },
     "execution_count": 26,
     "metadata": {},
     "output_type": "execute_result"
    }
   ],
   "source": [
    "data = data.replace('?', np.nan)\n",
    "print(\"Numero de linhas e colunas: \", data.shape)\n",
    "data.head(25)"
   ]
  },
  {
   "cell_type": "code",
   "execution_count": 23,
   "metadata": {},
   "outputs": [
    {
     "name": "stdout",
     "output_type": "stream",
     "text": [
      "Numero de linhas e colunas:  (150, 5)\n"
     ]
    }
   ],
   "source": [
    "data = data.dropna()\n",
    "print(\"Numero de linhas e colunas: \", data.shape)\n",
    "#data.head(25)"
   ]
  },
  {
   "cell_type": "code",
   "execution_count": 24,
   "metadata": {},
   "outputs": [
    {
     "name": "stdout",
     "output_type": "stream",
     "text": [
      "Numero de linhas e colunas:  (147, 5)\n"
     ]
    }
   ],
   "source": [
    "data = data.drop_duplicates()\n",
    "print(\"Numero de linhas e colunas: \", data.shape)\n",
    "#data.head(60)"
   ]
  },
  {
   "cell_type": "markdown",
   "metadata": {},
   "source": [
    "# Escolha de x e y\n",
    "Levando em consideração todas as colunas, achamos interessante recolher os dados de <i>sepal_length</i> e <i>petal_length</i> e basear a nossa análise nessas duas colunas."
   ]
  },
  {
   "cell_type": "code",
   "execution_count": 25,
   "metadata": {},
   "outputs": [],
   "source": [
    "sepal_length = data['sepal_length'] \n",
    "petal_length = data['petal_length']"
   ]
  },
  {
   "cell_type": "markdown",
   "metadata": {},
   "source": [
    "# Cálculo de média, variância, mediana, desvio padrão e histograma de <i>Sepal Length</i> e <i>Petal Length</i>.\n",
    "Para os cálculos propostos, utilizamos a biblioteca numpy com as funções mean, var, median e a std. O histogramas foram criados utizando a função histogram do numpy e os <i>plots</i> foram feitos utilizando a biblioteca matplotlib.\n",
    "O retorno do histograma, como descrito em aula, é um gráfico de frequência pela variável escolhida(<i>Sepal Length</i> ou <i>Petal Length</i>)"
   ]
  },
  {
   "cell_type": "code",
   "execution_count": 2,
   "metadata": {},
   "outputs": [
    {
     "ename": "NameError",
     "evalue": "name 'plt' is not defined",
     "output_type": "error",
     "traceback": [
      "\u001b[1;31m---------------------------------------------------------------------------\u001b[0m",
      "\u001b[1;31mNameError\u001b[0m                                 Traceback (most recent call last)",
      "\u001b[1;32m<ipython-input-2-81155149e269>\u001b[0m in \u001b[0;36m<module>\u001b[1;34m\u001b[0m\n\u001b[1;32m----> 1\u001b[1;33m \u001b[0mplt\u001b[0m\u001b[1;33m.\u001b[0m\u001b[0mstyle\u001b[0m\u001b[1;33m.\u001b[0m\u001b[0muse\u001b[0m\u001b[1;33m(\u001b[0m\u001b[1;34m'seaborn-whitegrid'\u001b[0m\u001b[1;33m)\u001b[0m\u001b[1;33m\u001b[0m\u001b[1;33m\u001b[0m\u001b[0m\n\u001b[0m\u001b[0;32m      2\u001b[0m \u001b[0mplt\u001b[0m\u001b[1;33m.\u001b[0m\u001b[0mhist\u001b[0m\u001b[1;33m(\u001b[0m\u001b[0msepal_length\u001b[0m\u001b[1;33m,\u001b[0m \u001b[0mbins\u001b[0m\u001b[1;33m=\u001b[0m \u001b[1;36m20\u001b[0m\u001b[1;33m,\u001b[0m \u001b[0mfacecolor\u001b[0m \u001b[1;33m=\u001b[0m \u001b[1;34m'#E0364D'\u001b[0m\u001b[1;33m,\u001b[0m \u001b[0medgecolor\u001b[0m\u001b[1;33m=\u001b[0m\u001b[1;34m'#AD2A3B'\u001b[0m\u001b[1;33m,\u001b[0m \u001b[0malpha\u001b[0m \u001b[1;33m=\u001b[0m \u001b[1;36m0.9\u001b[0m\u001b[1;33m)\u001b[0m\u001b[1;33m\u001b[0m\u001b[1;33m\u001b[0m\u001b[0m\n\u001b[0;32m      3\u001b[0m \u001b[0mplt\u001b[0m\u001b[1;33m.\u001b[0m\u001b[0mtitle\u001b[0m\u001b[1;33m(\u001b[0m\u001b[1;34m\"Frequência x da Largura das Sépalas\"\u001b[0m\u001b[1;33m)\u001b[0m\u001b[1;33m\u001b[0m\u001b[1;33m\u001b[0m\u001b[0m\n\u001b[0;32m      4\u001b[0m \u001b[0mplt\u001b[0m\u001b[1;33m.\u001b[0m\u001b[0mylabel\u001b[0m\u001b[1;33m(\u001b[0m\u001b[1;34m\"Frequência\"\u001b[0m\u001b[1;33m)\u001b[0m\u001b[1;33m\u001b[0m\u001b[1;33m\u001b[0m\u001b[0m\n\u001b[0;32m      5\u001b[0m \u001b[0mplt\u001b[0m\u001b[1;33m.\u001b[0m\u001b[0mxlabel\u001b[0m\u001b[1;33m(\u001b[0m\u001b[1;34m\"Largura das Sépalas\"\u001b[0m\u001b[1;33m)\u001b[0m\u001b[1;33m\u001b[0m\u001b[1;33m\u001b[0m\u001b[0m\n",
      "\u001b[1;31mNameError\u001b[0m: name 'plt' is not defined"
     ]
    }
   ],
   "source": [
    "print('Variância da Largura das Sépalas: %.3f' %np.var(sepal_length)) #Variância - Medida de dispersão que mostra quão distantes os valores estão da média\n",
    "print('Média de Largura das Sépalas: %.3f' %np.mean(sepal_length)) #Média\n",
    "print('Mediana da Largura das Sépalas: %.3f' %np.median(sepal_length)) # Mediana - Valor \n",
    "print('Desvio Padrão da Largura das Sépalas: %.3f' %np.std(sepal_length, ddof = 1)) #Desvio Padrão - Indica qual é o “erro” se quiséssemos substituir um dos valores coletados pelo valor da média\n",
    "\n",
    "plt.style.use('seaborn-whitegrid')\n",
    "plt.hist(sepal_length, bins= 20, facecolor = '#E0364D', edgecolor='#AD2A3B', alpha = 0.9)\n",
    "plt.title(\"Frequência x da Largura das Sépalas\")\n",
    "plt.ylabel(\"Frequência\")\n",
    "plt.xlabel(\"Largura das Sépalas\")\n",
    "plt.figure(figsize=(15,10))\n",
    "plt.show() #chama o plot do gráfico"
   ]
  },
  {
   "cell_type": "code",
   "execution_count": 28,
   "metadata": {},
   "outputs": [
    {
     "name": "stdout",
     "output_type": "stream",
     "text": [
      "Variância da Largura das Pétalas: 3.073\n",
      "Média de Largura das Pétalas: 3.780\n",
      "Mediana da Largura das Pétalas: 4.400\n",
      "Desvio Padrão da Largura das Pétalas: 1.759\n"
     ]
    },
    {
     "data": {
      "image/png": "[encoded data removed]",
      "text/plain": [
       "<Figure size 432x288 with 1 Axes>"
      ]
     },
     "metadata": {},
     "output_type": "display_data"
    }
   ],
   "source": [
    "print('Variância da Largura das Pétalas: %.3f' %np.var(petal_length))\n",
    "print('Média de Largura das Pétalas: %.3f' %np.mean(petal_length))\n",
    "print('Mediana da Largura das Pétalas: %.3f' %np.median(petal_length))\n",
    "print('Desvio Padrão da Largura das Pétalas: %.3f' %np.std(petal_length, ddof = 1))\n",
    "\n",
    "plt.style.use('seaborn-whitegrid')\n",
    "plt.hist(petal_length, bins= 20, facecolor = '#E0364D', edgecolor='#AD2A3B', alpha = 0.9)\n",
    "plt.title(\"Frequência x da Largura das Pétalas\")\n",
    "plt.ylabel(\"Frequência\")\n",
    "plt.xlabel(\"Largura das Pétalas\")\n",
    "plt.show()"
   ]
  },
  {
   "cell_type": "markdown",
   "metadata": {},
   "source": [
    "# Cálculo da correlação entre as variáveis <i>sepal_length</i> e <i>petal_length</i> \n",
    "Os cálculos foram feitos utilizando a correlação de pearson, por meio da função pearsonr da biblioteca scipy.stats.\n",
    "O resultado mostra uma correlação positiva, indicando que as duas variáveis crescem na mesma direção, no caso presente, esse coeficiente é alto e positivo, entre 0.7 e 0.9, portanto as variáveis possuem uma correlação forte crescendo na mesma direção. O resultado da correlação interferirá na inclinação da reta na regressão linear."
   ]
  },
  {
   "cell_type": "code",
   "execution_count": 29,
   "metadata": {},
   "outputs": [
    {
     "name": "stdout",
     "output_type": "stream",
     "text": [
      "Correlação de Pearson: 0.871\n"
     ]
    }
   ],
   "source": [
    "tam = len(sepal_length)  #tamanho das colunas\n",
    "\n",
    "corr, p_value = pearsonr(sepal_length, petal_length) # calcula a correlação\n",
    "\n",
    "print(\"Correlação de Pearson: %.3f\" %corr)"
   ]
  },
  {
   "cell_type": "markdown",
   "metadata": {},
   "source": [
    "# Passagem de dados para o dataframe\n",
    "Aqui utilizamos o dataframe da biblioteca pandas para armazenar de maneira \"unida\" x e y a fim de passar os valores para a regressão linear."
   ]
  },
  {
   "cell_type": "code",
   "execution_count": 30,
   "metadata": {},
   "outputs": [],
   "source": [
    "dataframe = pd.DataFrame()\n",
    "dataframe['x'] = sepal_length  # tamanho da celula\n",
    "dataframe['y'] = petal_length # forma da celula\n",
    "x_values = dataframe[['x']]\n",
    "y_values = dataframe[['y']]"
   ]
  },
  {
   "cell_type": "markdown",
   "metadata": {},
   "source": [
    "# Criação do modelo de regressão linear\n",
    "Aqui utilizamos a função linear_model da biblioteca sklearn para gerar nosso modelo. Pode se notar que a linha de tendência tem uma inclinação muito baixa, o que comprova a correlação neutra das variáveis <i>sepal_length</i> e <i>petal_length</i>. A equação da regressão linear nos permite achar o <i>petal_length</i> aproximado de uma Iris com determinada <i>sepal_length</i> apenas trocando o x da equação pela própria <i>sepal_length</i>"
   ]
  },
  {
   "cell_type": "code",
   "execution_count": 31,
   "metadata": {
    "scrolled": true
   },
   "outputs": [
    {
     "name": "stdout",
     "output_type": "stream",
     "text": [
      "Utilizando biblioteca scikit-learn no python\n",
      "y = ax + b\n",
      "a = 1.85 = Coeficiente angular - inclinação da linha de tendência\n",
      "b = -7.05 = O ponto de interceptação do eixo y.\n",
      "\n",
      "Equação da regressão linear:\n",
      "y = 1.8486570976173178x + -7.046319015909856\n"
     ]
    }
   ],
   "source": [
    "#Modelo de regressão linear\n",
    "model = linear_model.LinearRegression()\n",
    "model.fit(x_values, y_values)\n",
    "\n",
    "#imprimindo os valores\n",
    "print('Utilizando biblioteca scikit-learn no python')\n",
    "print('y = ax + b')\n",
    "a = model.coef_[0][0]\n",
    "b = model.intercept_[0]\n",
    "print('a = %.2f = Coeficiente angular - inclinação da linha de tendência' % a)\n",
    "print('b = %.2f = O ponto de interceptação do eixo y.' % b)\n",
    "print()\n",
    "print('Equação da regressão linear:')\n",
    "print('y = {}x + {}'.format(a, b))"
   ]
  },
  {
   "cell_type": "code",
   "execution_count": 32,
   "metadata": {},
   "outputs": [
    {
     "data": {
      "image/png": "[encoded data removed]",
      "text/plain": [
       "<Figure size 432x288 with 1 Axes>"
      ]
     },
     "metadata": {},
     "output_type": "display_data"
    }
   ],
   "source": [
    "#Gráfico da regressão linear\n",
    "y_pred = model.predict(x_values)\n",
    "plt.scatter(x_values, y_values)\n",
    "plt.plot(x_values, y_pred, color='red')\n",
    "plt.show()"
   ]
  },
  {
   "cell_type": "markdown",
   "metadata": {},
   "source": [
    "# Métricas de avaliação para a regressão linear\n",
    "<b>Mean Squared Error</b>: é uma das métricas mais utilizadas para calcular erros em predições, inclusive em regressões lineares, ela pode ser calculada como a soma dos erros da linha ao quadrado, sendo que o erro ao quadrado de determinado ponto <b>n</b> se dá por <b>(y_n - (mx_n + b))^2</b> que é a distância vertical da reta para o ponto <b>n</b>. Quanto menor o MSE, melhor a predição do modelo.\n",
    "<b>Coeficiente de determinação (R2 score)</b> Expressa a quantidade da variância dos dados que é explicada pelo modelo linear. Assim, quanto maior o R², mais explicativo é o modelo linear, ou seja, melhor ele se ajusta à amostra. Quanto mais próximo de 1, mais ajustável a amosta ele é.\n",
    "Obs: funções que terminam com _error ou _loss retornam valores que devem ser minimizados, enquanto funções que terminam com _score retornam valores que devem ser maximizados."
   ]
  },
  {
   "cell_type": "code",
   "execution_count": 33,
   "metadata": {},
   "outputs": [
    {
     "name": "stdout",
     "output_type": "stream",
     "text": [
      "Mean squared error = 0.74\n",
      "R2 score = 0.76\n"
     ]
    }
   ],
   "source": [
    "print(\"Mean squared error =\", round(sm.mean_squared_error(y_values, y_pred), 2))\n",
    "print(\"R2 score =\", round(sm.r2_score(y_values, y_pred), 2))"
   ]
  },
  {
   "cell_type": "markdown",
   "metadata": {},
   "source": [
    "# Regressão Logística\n",
    "Enquanto na Regressão Linear temos uma variável resposta contínua, na Regressão Logística nossa variável resposta é binária, 0 ou 1, sim ou não. Essa análise é, normalmente, utilizada quando se quer medir a relação de uma variável dependente binária com uma ou mais variáveis independentes, sendo que as independentes tanto podem ser categóricas ou não.\n",
    "A Regressão Logística é uma análise que nos permite estimar a probabilidade associada à ocorrência de determinado evento em face de um conjunto de variáveis explanatórias. As vantagens desse tipo de regressão incluem: (a) facilidade para lidar com variáveis independentes categóricas; (b) fornece resultados em termos de probabilidade; (c) facilidade de classificação de indivíduos em categorias; (d) requer pequeno número de suposições; e (e) possui alto grau de confiabilidade."
   ]
  },
  {
   "cell_type": "markdown",
   "metadata": {},
   "source": [
    "<img src=\"https://rajputhimanshu.files.wordpress.com/2018/03/linear_vs_logistic_regression.jpg\" width=\"600\"></img>\n",
    "<img src=\"https://mllog.github.io/img/pythonmlch2/adaline.png\" width=\"600\"></img>"
   ]
  },
  {
   "cell_type": "code",
   "execution_count": 34,
   "metadata": {},
   "outputs": [],
   "source": [
    "import seaborn as sns\n",
    "from sklearn.model_selection import train_test_split\n",
    "from sklearn.linear_model import LogisticRegression\n",
    "from sklearn.metrics import classification_report, accuracy_score\n",
    "from sklearn.preprocessing import StandardScaler"
   ]
  },
  {
   "cell_type": "code",
   "execution_count": 35,
   "metadata": {},
   "outputs": [],
   "source": [
    "X_reg = data.iloc[:, :-1] #Recebe todas as colunas menos a última\n",
    "y_reg = data.iloc[:, -1] #Recebe a última coluna\n",
    "h = .02  # step size in the mesh\n",
    "X_reg = StandardScaler().fit_transform(X_reg)"
   ]
  },
  {
   "cell_type": "code",
   "execution_count": 36,
   "metadata": {},
   "outputs": [],
   "source": [
    "#Separa os conjuntos de treino e teste em 80% e 20% respectivamente.\n",
    "X_train, X_test, Y_train, Y_test = train_test_split(X_reg, y_reg, test_size = 0.2, random_state = 42)"
   ]
  },
  {
   "cell_type": "code",
   "execution_count": 37,
   "metadata": {},
   "outputs": [
    {
     "data": {
      "text/plain": [
       "LogisticRegression()"
      ]
     },
     "execution_count": 37,
     "metadata": {},
     "output_type": "execute_result"
    }
   ],
   "source": [
    "#Treina o modelo \n",
    "model = LogisticRegression()\n",
    "model.fit(X_train, Y_train)"
   ]
  },
  {
   "cell_type": "code",
   "execution_count": 38,
   "metadata": {},
   "outputs": [
    {
     "data": {
      "image/png": "[encoded data removed]",
      "text/plain": [
       "<Figure size 432x288 with 1 Axes>"
      ]
     },
     "metadata": {},
     "output_type": "display_data"
    }
   ],
   "source": [
    "#Mostra a relação de cada característica com cada espécie de Íris\n",
    "\n",
    "plt.xlabel('Características')\n",
    "plt.ylabel('Espécies')\n",
    "\n",
    "pltX = data.loc[:, \"sepal_length\"]\n",
    "pltY = data.loc[:, \"species\"]\n",
    "plt.scatter(pltX, pltY, color= \"blue\", label = \"sepal_length\")\n",
    "\n",
    "pltX = data.loc[:, \"sepal_width\"]\n",
    "pltT = data.loc[:, \"species\"]\n",
    "plt.scatter(pltX, pltY, color= \"green\", label = \"sepal_width\")\n",
    "\n",
    "pltX = data.loc[:, \"petal_length\"]\n",
    "pltY = data.loc[:, \"species\"]\n",
    "plt.scatter(pltX, pltY, color= \"red\", label = \"petal_length\")\n",
    "\n",
    "pltX = data.loc[:, \"petal_width\"]\n",
    "pltY = data.loc[:, \"species\"]\n",
    "plt.scatter(pltX, pltY, color= \"black\", label = \"petal_width\")\n",
    "\n",
    "plt.legend(loc = 4, prop={'size':9})\n",
    "plt.show()"
   ]
  },
  {
   "cell_type": "markdown",
   "metadata": {},
   "source": [
    "# Métricas de avaliação para a classificação\n",
    "Antes de tudo, devemos levar em consideração algumas notações sobre como é tratado o resultado de cada predição.\n",
    "\n",
    "FP (Falso positivo): Ocorre quando a classe atual é negativa, mas a predição retorna resultado positivo.\n",
    "FN (Falso negativo): Ocorre quando a classe atual é positiva, mas a predição retorna resultado negativo.\n",
    "VP (Verdadeiro positivo): Ocorre quando a classe atual é positiva, e a predição retorna resultado positivo.\n",
    "VN (Verdadeiro negativo): Ocorre quando a classe atual é positiva, e a predição retorna resultado positivo.\n",
    "\n",
    "<b>Precisão</b>: É a relação entre os verdadeiros positivos e todos os positivos retornados - VP / (VP + FP), uma alta precisão indica uma baixa taxa de falsos positivos.\n",
    "\n",
    "<b>Sensibilidade</b>: É a relação entre os verdadeiros positivos e a soma dos verdadeiros positivos com os falsos negativos.\n",
    "\n",
    "<b>F1-Score</b>: A pontuação F1 é a média ponderada de precisão e sensibilidade. Portanto, essa pontuação leva em consideração os falsos positivos e os falsos negativos. Intuitivamente, não é tão fácil de entender quanto a acurácia, mas F1 geralmente é mais útil do que a acurácia, especialmente se você tiver uma distribuição de classes desigual. A acurácia funciona melhor se falsos positivos e falsos negativos tiverem custos semelhantes. Se o custo de falsos positivos e falsos negativos são muito diferentes, é melhor olhar para precisão e sensibilidade. - 2*( Precisão * Sensibilidade) / (Precisão * Sensibilidade)"
   ]
  },
  {
   "cell_type": "code",
   "execution_count": 40,
   "metadata": {},
   "outputs": [
    {
     "name": "stdout",
     "output_type": "stream",
     "text": [
      "              precision    recall  f1-score   support\n",
      "\n",
      "      setosa       1.00      1.00      1.00        11\n",
      "  versicolor       1.00      0.90      0.95        10\n",
      "   virginica       0.90      1.00      0.95         9\n",
      "\n",
      "    accuracy                           0.97        30\n",
      "   macro avg       0.97      0.97      0.96        30\n",
      "weighted avg       0.97      0.97      0.97        30\n",
      "\n",
      "Acurácia: 96.67%\n"
     ]
    }
   ],
   "source": [
    "#Testa o modelo\n",
    "predicoes = model.predict(X_test)\n",
    "\n",
    "#print(predicoes)\n",
    "#print(Y_test)\n",
    "\n",
    "#Retorna métricas de avaliação\n",
    "print(classification_report(Y_test, predicoes))\n",
    "print(\"Acurácia: {:.2f}%\" .format(accuracy_score(Y_test, predicoes) * 100))"
   ]
  }
 ],
 "metadata": {
  "kernelspec": {
   "display_name": "Python 3",
   "language": "python",
   "name": "python3"
  },
  "language_info": {
   "codemirror_mode": {
    "name": "ipython",
    "version": 3
   },
   "file_extension": ".py",
   "mimetype": "text/x-python",
   "name": "python",
   "nbconvert_exporter": "python",
   "pygments_lexer": "ipython3",
   "version": "3.8.3"
  }
 },
 "nbformat": 4,
 "nbformat_minor": 4
}
